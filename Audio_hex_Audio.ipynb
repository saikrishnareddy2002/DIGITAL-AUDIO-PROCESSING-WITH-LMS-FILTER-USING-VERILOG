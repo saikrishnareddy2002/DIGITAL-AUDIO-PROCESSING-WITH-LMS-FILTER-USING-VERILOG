{
  "nbformat": 4,
  "nbformat_minor": 0,
  "metadata": {
    "colab": {
      "provenance": []
    },
    "kernelspec": {
      "name": "python3",
      "display_name": "Python 3"
    },
    "language_info": {
      "name": "python"
    }
  },
  "cells": [
    {
      "cell_type": "code",
      "source": [
        "!pip install pydub"
      ],
      "metadata": {
        "colab": {
          "base_uri": "https://localhost:8080/"
        },
        "id": "Q5KykE6PkwHp",
        "outputId": "cbc8550f-1dc4-4d94-ac44-338a1e7eaebf"
      },
      "execution_count": 1,
      "outputs": [
        {
          "output_type": "stream",
          "name": "stdout",
          "text": [
            "Collecting pydub\n",
            "  Downloading pydub-0.25.1-py2.py3-none-any.whl (32 kB)\n",
            "Installing collected packages: pydub\n",
            "Successfully installed pydub-0.25.1\n"
          ]
        }
      ]
    },
    {
      "cell_type": "code",
      "source": [
        "from pydub import AudioSegment\n",
        "import binascii\n",
        "\n",
        "def convert_to_8bit_hex(audio_file, output_file, target_sample_size=500000):\n",
        "    # Load the MP3 file\n",
        "    audio = AudioSegment.from_mp3(audio_file)\n",
        "\n",
        "    # Convert to 8-bit\n",
        "    audio = audio.set_sample_width(1)\n",
        "\n",
        "    # Get the raw data\n",
        "    raw_data = audio.raw_data[:target_sample_size]\n",
        "\n",
        "    # Convert audio samples to 8-bit hexadecimal\n",
        "    hex_data = binascii.hexlify(raw_data).decode('utf-8')\n",
        "\n",
        "    # Split the hex data into chunks of two characters (one byte)\n",
        "    hex_values = [hex_data[i:i+2] for i in range(0, len(hex_data), 2)]\n",
        "\n",
        "    # Write each hex value on a new line in the output file\n",
        "    with open(output_file, 'w') as f:\n",
        "        for hex_value in hex_values:\n",
        "            f.write(hex_value + '\\n')\n",
        "\n",
        "if __name__ == \"__main__\":\n",
        "    input_mp3_file = \"Sample.mp3\"  # Change this to your input MP3 file\n",
        "    output_hex_file = \"Input_hex.txt\"  # Change this to your output hex file\n",
        "    target_sample_size = 500000  # Change this to your desired sample size\n",
        "\n",
        "    convert_to_8bit_hex(input_mp3_file, output_hex_file, target_sample_size)\n"
      ],
      "metadata": {
        "id": "1E79_2OqDFf3"
      },
      "execution_count": 15,
      "outputs": []
    },
    {
      "cell_type": "code",
      "source": [
        "import binascii\n",
        "from pydub import AudioSegment\n",
        "\n",
        "def is_hex(s):\n",
        "    try:\n",
        "        int(s, 16)\n",
        "        return True\n",
        "    except ValueError:\n",
        "        return False\n",
        "\n",
        "def convert_hex_to_mp3(hex_file, output_mp3_file):\n",
        "    # Read hexadecimal data from the file\n",
        "    with open(hex_file, 'r') as f:\n",
        "        hex_values = f.read().splitlines()\n",
        "\n",
        "    # Filter out non-hexadecimal samples\n",
        "    hex_values = [value for value in hex_values if is_hex(value)]\n",
        "\n",
        "    # Convert hex values back to bytes\n",
        "    raw_data = binascii.unhexlify(''.join(hex_values))\n",
        "\n",
        "    # Create an AudioSegment from the raw data\n",
        "    audio = AudioSegment(raw_data, sample_width=1, channels=1, frame_rate=44100)\n",
        "\n",
        "    # Export the audio to an MP3 file\n",
        "    audio.export(output_mp3_file, format=\"mp3\")\n",
        "\n",
        "if __name__ == \"__main__\":\n",
        "    input_hex_file = \"output_hex.txt\"  # Change this to your hex file\n",
        "    output_mp3_file = \"output.mp3\"  # Change this to your output MP3 file\n",
        "\n",
        "    convert_hex_to_mp3(input_hex_file, output_mp3_file)\n"
      ],
      "metadata": {
        "id": "hX9LtLE8DiQv"
      },
      "execution_count": 17,
      "outputs": []
    }
  ]
}